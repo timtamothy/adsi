{
 "cells": [
  {
   "cell_type": "code",
   "execution_count": 1,
   "id": "ca6cf86d-1201-4b42-9890-54e3132bcc93",
   "metadata": {},
   "outputs": [],
   "source": [
    "import pandas as pd\n",
    "import numpy as np"
   ]
  },
  {
   "cell_type": "code",
   "execution_count": 2,
   "id": "951e682f-c8e1-40d6-82ef-d995826087c0",
   "metadata": {},
   "outputs": [],
   "source": [
    "X_train = np.load('../data/processed/X_train.npy')\n",
    "X_val = np.load('../data/processed/X_val.npy' )\n",
    "y_train = np.load('../data/processed/y_train.npy' )\n",
    "y_val = np.load('../data/processed/y_val.npy', )\n",
    "X_test = np.load('../data/processed/X_test.npy')"
   ]
  },
  {
   "cell_type": "code",
   "execution_count": 3,
   "id": "d16f5a64-be9a-4490-b849-296495959c28",
   "metadata": {},
   "outputs": [
    {
     "data": {
      "text/html": [
       "<style>#sk-container-id-1 {color: black;background-color: white;}#sk-container-id-1 pre{padding: 0;}#sk-container-id-1 div.sk-toggleable {background-color: white;}#sk-container-id-1 label.sk-toggleable__label {cursor: pointer;display: block;width: 100%;margin-bottom: 0;padding: 0.3em;box-sizing: border-box;text-align: center;}#sk-container-id-1 label.sk-toggleable__label-arrow:before {content: \"▸\";float: left;margin-right: 0.25em;color: #696969;}#sk-container-id-1 label.sk-toggleable__label-arrow:hover:before {color: black;}#sk-container-id-1 div.sk-estimator:hover label.sk-toggleable__label-arrow:before {color: black;}#sk-container-id-1 div.sk-toggleable__content {max-height: 0;max-width: 0;overflow: hidden;text-align: left;background-color: #f0f8ff;}#sk-container-id-1 div.sk-toggleable__content pre {margin: 0.2em;color: black;border-radius: 0.25em;background-color: #f0f8ff;}#sk-container-id-1 input.sk-toggleable__control:checked~div.sk-toggleable__content {max-height: 200px;max-width: 100%;overflow: auto;}#sk-container-id-1 input.sk-toggleable__control:checked~label.sk-toggleable__label-arrow:before {content: \"▾\";}#sk-container-id-1 div.sk-estimator input.sk-toggleable__control:checked~label.sk-toggleable__label {background-color: #d4ebff;}#sk-container-id-1 div.sk-label input.sk-toggleable__control:checked~label.sk-toggleable__label {background-color: #d4ebff;}#sk-container-id-1 input.sk-hidden--visually {border: 0;clip: rect(1px 1px 1px 1px);clip: rect(1px, 1px, 1px, 1px);height: 1px;margin: -1px;overflow: hidden;padding: 0;position: absolute;width: 1px;}#sk-container-id-1 div.sk-estimator {font-family: monospace;background-color: #f0f8ff;border: 1px dotted black;border-radius: 0.25em;box-sizing: border-box;margin-bottom: 0.5em;}#sk-container-id-1 div.sk-estimator:hover {background-color: #d4ebff;}#sk-container-id-1 div.sk-parallel-item::after {content: \"\";width: 100%;border-bottom: 1px solid gray;flex-grow: 1;}#sk-container-id-1 div.sk-label:hover label.sk-toggleable__label {background-color: #d4ebff;}#sk-container-id-1 div.sk-serial::before {content: \"\";position: absolute;border-left: 1px solid gray;box-sizing: border-box;top: 0;bottom: 0;left: 50%;z-index: 0;}#sk-container-id-1 div.sk-serial {display: flex;flex-direction: column;align-items: center;background-color: white;padding-right: 0.2em;padding-left: 0.2em;position: relative;}#sk-container-id-1 div.sk-item {position: relative;z-index: 1;}#sk-container-id-1 div.sk-parallel {display: flex;align-items: stretch;justify-content: center;background-color: white;position: relative;}#sk-container-id-1 div.sk-item::before, #sk-container-id-1 div.sk-parallel-item::before {content: \"\";position: absolute;border-left: 1px solid gray;box-sizing: border-box;top: 0;bottom: 0;left: 50%;z-index: -1;}#sk-container-id-1 div.sk-parallel-item {display: flex;flex-direction: column;z-index: 1;position: relative;background-color: white;}#sk-container-id-1 div.sk-parallel-item:first-child::after {align-self: flex-end;width: 50%;}#sk-container-id-1 div.sk-parallel-item:last-child::after {align-self: flex-start;width: 50%;}#sk-container-id-1 div.sk-parallel-item:only-child::after {width: 0;}#sk-container-id-1 div.sk-dashed-wrapped {border: 1px dashed gray;margin: 0 0.4em 0.5em 0.4em;box-sizing: border-box;padding-bottom: 0.4em;background-color: white;}#sk-container-id-1 div.sk-label label {font-family: monospace;font-weight: bold;display: inline-block;line-height: 1.2em;}#sk-container-id-1 div.sk-label-container {text-align: center;}#sk-container-id-1 div.sk-container {/* jupyter's `normalize.less` sets `[hidden] { display: none; }` but bootstrap.min.css set `[hidden] { display: none !important; }` so we also need the `!important` here to be able to override the default hidden behavior on the sphinx rendered scikit-learn.org. See: https://github.com/scikit-learn/scikit-learn/issues/21755 */display: inline-block !important;position: relative;}#sk-container-id-1 div.sk-text-repr-fallback {display: none;}</style><div id=\"sk-container-id-1\" class=\"sk-top-container\"><div class=\"sk-text-repr-fallback\"><pre>RandomForestClassifier(random_state=44)</pre><b>In a Jupyter environment, please rerun this cell to show the HTML representation or trust the notebook. <br />On GitHub, the HTML representation is unable to render, please try loading this page with nbviewer.org.</b></div><div class=\"sk-container\" hidden><div class=\"sk-item\"><div class=\"sk-estimator sk-toggleable\"><input class=\"sk-toggleable__control sk-hidden--visually\" id=\"sk-estimator-id-1\" type=\"checkbox\" checked><label for=\"sk-estimator-id-1\" class=\"sk-toggleable__label sk-toggleable__label-arrow\">RandomForestClassifier</label><div class=\"sk-toggleable__content\"><pre>RandomForestClassifier(random_state=44)</pre></div></div></div></div></div>"
      ],
      "text/plain": [
       "RandomForestClassifier(random_state=44)"
      ]
     },
     "execution_count": 3,
     "metadata": {},
     "output_type": "execute_result"
    }
   ],
   "source": [
    "from sklearn.ensemble import RandomForestClassifier\n",
    "rf_model = RandomForestClassifier(n_estimators=100, random_state=44)\n",
    "rf_model.fit(X_train, y_train)"
   ]
  },
  {
   "cell_type": "code",
   "execution_count": 4,
   "id": "c6d9f5c5-60f8-4f34-928c-0fd0fb55d5b1",
   "metadata": {},
   "outputs": [
    {
     "data": {
      "text/plain": [
       "['../models/random_forest_default.joblib']"
      ]
     },
     "execution_count": 4,
     "metadata": {},
     "output_type": "execute_result"
    }
   ],
   "source": [
    "#Save model in the models folder\n",
    "from joblib import dump\n",
    "dump(rf_model, '../models/random_forest_default.joblib')"
   ]
  },
  {
   "cell_type": "code",
   "execution_count": 5,
   "id": "741ccb0d-fbd0-4a6a-8113-aac33fb9e30e",
   "metadata": {},
   "outputs": [],
   "source": [
    "y_trainpreds = rf_model.predict(X_train)\n",
    "y_val_preds = rf_model.predict(X_val)"
   ]
  },
  {
   "cell_type": "code",
   "execution_count": 6,
   "id": "198e37f0-2d94-443e-a505-136b1e8d10ad",
   "metadata": {},
   "outputs": [],
   "source": [
    "#Get error/score metrics\n",
    "from sklearn.metrics import mean_squared_error as mse\n",
    "from sklearn.metrics import mean_absolute_error as mae"
   ]
  },
  {
   "cell_type": "code",
   "execution_count": 7,
   "id": "4b79b6c2-7013-41c0-ba59-d648f2878a29",
   "metadata": {},
   "outputs": [
    {
     "name": "stdout",
     "output_type": "stream",
     "text": [
      "0.41982139059366663\n",
      "0.17625\n"
     ]
    }
   ],
   "source": [
    "print(mse(y_val, y_val_preds, squared=False))\n",
    "print(mae(y_val, y_val_preds))"
   ]
  },
  {
   "cell_type": "code",
   "execution_count": 8,
   "id": "524da714-e72a-4550-9b0d-438e68e0e0e7",
   "metadata": {},
   "outputs": [
    {
     "data": {
      "text/plain": [
       "1.0"
      ]
     },
     "execution_count": 8,
     "metadata": {},
     "output_type": "execute_result"
    }
   ],
   "source": [
    "rf_model.score(X_train, y_train)"
   ]
  },
  {
   "cell_type": "code",
   "execution_count": 9,
   "id": "77248cb8-8ef9-457e-9088-197dfbe29149",
   "metadata": {},
   "outputs": [
    {
     "data": {
      "text/plain": [
       "0.82375"
      ]
     },
     "execution_count": 9,
     "metadata": {},
     "output_type": "execute_result"
    }
   ],
   "source": [
    "rf_model.score(X_val, y_val)"
   ]
  },
  {
   "cell_type": "code",
   "execution_count": 10,
   "id": "db6126a4-a848-472f-aa79-d3888cada307",
   "metadata": {},
   "outputs": [],
   "source": [
    "from sklearn.metrics import confusion_matrix\n",
    "import matplotlib.pyplot as plt"
   ]
  },
  {
   "cell_type": "code",
   "execution_count": 11,
   "id": "98143b95-42ad-4a36-b89b-ab3be1efc4af",
   "metadata": {},
   "outputs": [
    {
     "data": {
      "image/png": "[encoded data removed]",
      "text/plain": [
       "<Figure size 800x800 with 1 Axes>"
      ]
     },
     "metadata": {},
     "output_type": "display_data"
    }
   ],
   "source": [
    "cm = confusion_matrix(y_val, y_val_preds)\n",
    "\n",
    "fig, ax = plt.subplots(figsize=(8, 8))\n",
    "ax.imshow(cm)\n",
    "ax.grid(False)\n",
    "ax.xaxis.set(ticks=(0, 1), ticklabels=('Predicted 0s', 'Predicted 1s'))\n",
    "ax.yaxis.set(ticks=(0, 1), ticklabels=('Actual 0s', 'Actual 1s'))\n",
    "ax.set_ylim(1.5, -0.5)\n",
    "for i in range(2):\n",
    "    for j in range(2):\n",
    "        ax.text(j, i, cm[i, j], ha='center', va='center', color='white')\n",
    "plt.show()"
   ]
  },
  {
   "cell_type": "code",
   "execution_count": 12,
   "id": "6a114f6a-55f3-48ac-acb6-325e5e7494e7",
   "metadata": {},
   "outputs": [],
   "source": [
    "#Test set preparation \n",
    "df_test = pd.read_csv('../data/raw/2022_test.csv')\n",
    "df_test_clean = df_test.copy()"
   ]
  },
  {
   "cell_type": "code",
   "execution_count": 13,
   "id": "af4c3235-fc4f-4ea9-a31c-ad1da4a4a69a",
   "metadata": {},
   "outputs": [],
   "source": [
    "#Test Set Cleanup\n",
    "df_test_clean.drop('Id', axis=1, inplace=True)\n",
    "df_test_clean.drop('FGM', axis=1, inplace=True)\n",
    "df_test_clean.drop('FGA', axis=1, inplace=True)\n",
    "df_test_clean.drop('3P Made', axis=1, inplace=True)\n",
    "df_test_clean.drop('3PA', axis=1, inplace=True)\n",
    "df_test_clean.drop('FTA', axis=1, inplace=True)\n",
    "df_test_clean.drop('FTM', axis=1, inplace=True)\n",
    "df_test_clean.drop('GP', axis=1, inplace=True)\n",
    "X_test = df_test_clean.copy()"
   ]
  },
  {
   "cell_type": "code",
   "execution_count": 14,
   "id": "ac61934f-72b5-4b24-a42a-0cb1592dace6",
   "metadata": {},
   "outputs": [],
   "source": [
    "#Getting ID column from Test set\n",
    "ID = df_test.pop('Id')"
   ]
  },
  {
   "cell_type": "code",
   "execution_count": 15,
   "id": "195a3d9b-2c6f-4509-aa15-9bf3b7a44283",
   "metadata": {},
   "outputs": [],
   "source": [
    "# Scaling Test Set with scaler model saved\n",
    "import joblib\n",
    "scaler = joblib.load('../models/scaler.joblib') "
   ]
  },
  {
   "cell_type": "code",
   "execution_count": 16,
   "id": "6ed79313-b72e-4d17-973e-a4ccd76dfbd8",
   "metadata": {},
   "outputs": [],
   "source": [
    "df_test_clean = scaler.fit_transform(X_test)"
   ]
  },
  {
   "cell_type": "code",
   "execution_count": 17,
   "id": "a9eff947-d626-4b4f-8f46-ec316df0739f",
   "metadata": {},
   "outputs": [],
   "source": [
    "#Saving Scaled Test Set\n",
    "np.save('../data/processed/X_test', df_test_clean)"
   ]
  },
  {
   "cell_type": "code",
   "execution_count": 18,
   "id": "76a69c1f-3c7e-48c7-a470-d72060654870",
   "metadata": {},
   "outputs": [],
   "source": [
    "y_test_preds = rf_model.predict(df_test_clean)"
   ]
  },
  {
   "cell_type": "code",
   "execution_count": 19,
   "id": "d8b3ea43-2d09-45a1-ab43-f5c4659f0ef3",
   "metadata": {},
   "outputs": [],
   "source": [
    "#Create Data Frame for Doc printing\n",
    "df =pd.DataFrame()"
   ]
  },
  {
   "cell_type": "code",
   "execution_count": 20,
   "id": "e0440476-83b2-4909-a46b-6cedfb5b8f03",
   "metadata": {},
   "outputs": [],
   "source": [
    "df['Id'] = ID\n",
    "df['TARGET_5Yrs'] = y_test_preds"
   ]
  },
  {
   "cell_type": "code",
   "execution_count": 21,
   "id": "4909e66f-ed64-45f5-95fd-340ad1b731d7",
   "metadata": {},
   "outputs": [
    {
     "data": {
      "text/html": [
       "<div>\n",
       "<style scoped>\n",
       "    .dataframe tbody tr th:only-of-type {\n",
       "        vertical-align: middle;\n",
       "    }\n",
       "\n",
       "    .dataframe tbody tr th {\n",
       "        vertical-align: top;\n",
       "    }\n",
       "\n",
       "    .dataframe thead th {\n",
       "        text-align: right;\n",
       "    }\n",
       "</style>\n",
       "<table border=\"1\" class=\"dataframe\">\n",
       "  <thead>\n",
       "    <tr style=\"text-align: right;\">\n",
       "      <th></th>\n",
       "      <th>Id</th>\n",
       "      <th>TARGET_5Yrs</th>\n",
       "    </tr>\n",
       "  </thead>\n",
       "  <tbody>\n",
       "    <tr>\n",
       "      <th>0</th>\n",
       "      <td>0</td>\n",
       "      <td>1</td>\n",
       "    </tr>\n",
       "    <tr>\n",
       "      <th>1</th>\n",
       "      <td>1</td>\n",
       "      <td>1</td>\n",
       "    </tr>\n",
       "    <tr>\n",
       "      <th>2</th>\n",
       "      <td>2</td>\n",
       "      <td>1</td>\n",
       "    </tr>\n",
       "    <tr>\n",
       "      <th>3</th>\n",
       "      <td>3</td>\n",
       "      <td>1</td>\n",
       "    </tr>\n",
       "    <tr>\n",
       "      <th>4</th>\n",
       "      <td>4</td>\n",
       "      <td>1</td>\n",
       "    </tr>\n",
       "  </tbody>\n",
       "</table>\n",
       "</div>"
      ],
      "text/plain": [
       "   Id  TARGET_5Yrs\n",
       "0   0            1\n",
       "1   1            1\n",
       "2   2            1\n",
       "3   3            1\n",
       "4   4            1"
      ]
     },
     "execution_count": 21,
     "metadata": {},
     "output_type": "execute_result"
    }
   ],
   "source": [
    "df.head()"
   ]
  },
  {
   "cell_type": "code",
   "execution_count": 22,
   "id": "d6eb3b2d-e232-4b64-a20d-169898089bdd",
   "metadata": {},
   "outputs": [],
   "source": [
    "#Saving predictions into csv\n",
    "df.to_csv('../data/external/Kaggle_submission_random_forest.csv')"
   ]
  },
  {
   "cell_type": "code",
   "execution_count": null,
   "id": "2eec58ca-4424-45aa-8cc2-a2efe9ba6c94",
   "metadata": {},
   "outputs": [],
   "source": []
  }
 ],
 "metadata": {
  "kernelspec": {
   "display_name": "Python 3 (ipykernel)",
   "language": "python",
   "name": "python3"
  },
  "language_info": {
   "codemirror_mode": {
    "name": "ipython",
    "version": 3
   },
   "file_extension": ".py",
   "mimetype": "text/x-python",
   "name": "python",
   "nbconvert_exporter": "python",
   "pygments_lexer": "ipython3",
   "version": "3.10.6"
  }
 },
 "nbformat": 4,
 "nbformat_minor": 5
}
